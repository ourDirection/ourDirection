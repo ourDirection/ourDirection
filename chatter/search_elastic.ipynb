{
 "cells": [
  {
   "cell_type": "code",
   "execution_count": 7,
   "metadata": {
    "collapsed": true
   },
   "outputs": [],
   "source": [
    "from datetime import datetime\n",
    "from elasticsearch_dsl import DocType, Date, Integer, Keyword, Text, connections\n",
    "import pandas as pd\n"
   ]
  },
  {
   "cell_type": "code",
   "execution_count": 2,
   "metadata": {},
   "outputs": [
    {
     "data": {
      "text/plain": [
       "<Elasticsearch([{'host': 'localhost'}])>"
      ]
     },
     "execution_count": 2,
     "metadata": {},
     "output_type": "execute_result"
    }
   ],
   "source": [
    "# Define a default Elasticsearch client\n",
    "connections.create_connection(hosts=['localhost'])"
   ]
  },
  {
   "cell_type": "code",
   "execution_count": 21,
   "metadata": {},
   "outputs": [
    {
     "data": {
      "text/html": [
       "<div>\n",
       "<table border=\"1\" class=\"dataframe\">\n",
       "  <thead>\n",
       "    <tr style=\"text-align: right;\">\n",
       "      <th></th>\n",
       "      <th>Unnamed: 0</th>\n",
       "      <th>Unnamed: 0.1</th>\n",
       "      <th>Q</th>\n",
       "      <th>A</th>\n",
       "      <th>SubjectOfBusinessTitle</th>\n",
       "      <th>FloorLanguage</th>\n",
       "      <th>date</th>\n",
       "      <th>personSpeaking</th>\n",
       "    </tr>\n",
       "  </thead>\n",
       "  <tbody>\n",
       "    <tr>\n",
       "      <th>27367</th>\n",
       "      <td>27367</td>\n",
       "      <td>27367</td>\n",
       "      <td>BOS Mr. Speaker, yesterday, an American giant ...</td>\n",
       "      <td>BOS Mr. Speaker, I would like to thank the hon...</td>\n",
       "      <td>International Trade</td>\n",
       "      <td>FR</td>\n",
       "      <td>2016-02-04</td>\n",
       "      <td>Ms. Brigitte Sansoucy (Saint-Hyacinthe—Bagot, ...</td>\n",
       "    </tr>\n",
       "    <tr>\n",
       "      <th>27368</th>\n",
       "      <td>27368</td>\n",
       "      <td>27368</td>\n",
       "      <td>BOS Mr. Speaker, the government has agreed to ...</td>\n",
       "      <td>BOS Mr. Speaker, that could not be further fro...</td>\n",
       "      <td>Employment Insurance</td>\n",
       "      <td>FR</td>\n",
       "      <td>2013-02-01</td>\n",
       "      <td>Hon. Stéphane Dion (Saint-Laurent—Cartierville...</td>\n",
       "    </tr>\n",
       "    <tr>\n",
       "      <th>27369</th>\n",
       "      <td>27369</td>\n",
       "      <td>27369</td>\n",
       "      <td>BOS Mr. Speaker, while SMEs like the businesse...</td>\n",
       "      <td>BOS Mr. Speaker, we know that it is very impor...</td>\n",
       "      <td>Taxation</td>\n",
       "      <td>FR</td>\n",
       "      <td>2017-02-24</td>\n",
       "      <td>Mr. Alexandre Boulerice (Rosemont—La Petite-Pa...</td>\n",
       "    </tr>\n",
       "    <tr>\n",
       "      <th>27370</th>\n",
       "      <td>27370</td>\n",
       "      <td>27370</td>\n",
       "      <td>BOS Mr. Speaker, as researcher Alain Deneault ...</td>\n",
       "      <td>BOS Mr. Speaker, our government is committed t...</td>\n",
       "      <td>Taxation</td>\n",
       "      <td>FR</td>\n",
       "      <td>2017-02-24</td>\n",
       "      <td>Hon. Bill Morneau (Minister of Finance, Lib.)</td>\n",
       "    </tr>\n",
       "    <tr>\n",
       "      <th>27371</th>\n",
       "      <td>27371</td>\n",
       "      <td>27371</td>\n",
       "      <td>BOS Mr. Speaker, Canadians are tired of the cu...</td>\n",
       "      <td>BOS Mr. Speaker, I was very pleased last year ...</td>\n",
       "      <td>Government Accountability</td>\n",
       "      <td>EN</td>\n",
       "      <td>2017-02-24</td>\n",
       "      <td>Ms. Cheryl Hardcastle (Windsor—Tecumseh, NDP)</td>\n",
       "    </tr>\n",
       "  </tbody>\n",
       "</table>\n",
       "</div>"
      ],
      "text/plain": [
       "       Unnamed: 0  Unnamed: 0.1  \\\n",
       "27367       27367         27367   \n",
       "27368       27368         27368   \n",
       "27369       27369         27369   \n",
       "27370       27370         27370   \n",
       "27371       27371         27371   \n",
       "\n",
       "                                                       Q  \\\n",
       "27367  BOS Mr. Speaker, yesterday, an American giant ...   \n",
       "27368  BOS Mr. Speaker, the government has agreed to ...   \n",
       "27369  BOS Mr. Speaker, while SMEs like the businesse...   \n",
       "27370  BOS Mr. Speaker, as researcher Alain Deneault ...   \n",
       "27371  BOS Mr. Speaker, Canadians are tired of the cu...   \n",
       "\n",
       "                                                       A  \\\n",
       "27367  BOS Mr. Speaker, I would like to thank the hon...   \n",
       "27368  BOS Mr. Speaker, that could not be further fro...   \n",
       "27369  BOS Mr. Speaker, we know that it is very impor...   \n",
       "27370  BOS Mr. Speaker, our government is committed t...   \n",
       "27371  BOS Mr. Speaker, I was very pleased last year ...   \n",
       "\n",
       "          SubjectOfBusinessTitle FloorLanguage        date  \\\n",
       "27367        International Trade            FR  2016-02-04   \n",
       "27368       Employment Insurance            FR  2013-02-01   \n",
       "27369                   Taxation            FR  2017-02-24   \n",
       "27370                   Taxation            FR  2017-02-24   \n",
       "27371  Government Accountability            EN  2017-02-24   \n",
       "\n",
       "                                          personSpeaking  \n",
       "27367  Ms. Brigitte Sansoucy (Saint-Hyacinthe—Bagot, ...  \n",
       "27368  Hon. Stéphane Dion (Saint-Laurent—Cartierville...  \n",
       "27369  Mr. Alexandre Boulerice (Rosemont—La Petite-Pa...  \n",
       "27370      Hon. Bill Morneau (Minister of Finance, Lib.)  \n",
       "27371      Ms. Cheryl Hardcastle (Windsor—Tecumseh, NDP)  "
      ]
     },
     "execution_count": 21,
     "metadata": {},
     "output_type": "execute_result"
    }
   ],
   "source": [
    "# create the mappings in elasticsearch\n",
    "Article.init()\n",
    "\n",
    "q_a_df = pd.read_csv('../minerva/data/q_a_all.csv')\n",
    "\n",
    "q_a_df.tail()"
   ]
  },
  {
   "cell_type": "code",
   "execution_count": 31,
   "metadata": {
    "collapsed": true
   },
   "outputs": [],
   "source": [
    "\n",
    "index = 'hansard'\n",
    "\n",
    "class Article(DocType):\n",
    "    title = Text(analyzer='snowball', fields={'raw': Keyword()})\n",
    "    body = Text(analyzer='snowball')\n",
    "#     answer = Text(analyzer='snowball')\n",
    "    personSpeaking = Text()\n",
    "    floorLanguage = Text()\n",
    "    tags = Keyword()\n",
    "    published_from = Date()\n",
    "    lines = Integer()\n",
    "\n",
    "    class Meta:\n",
    "        index = 'hansard'\n",
    "\n",
    "    def save(self, ** kwargs):\n",
    "        self.lines = len(self.body.split())\n",
    "        return super(Article, self).save(** kwargs)\n",
    "\n",
    "    def is_published(self):\n",
    "        return datetime.now() > self.published_from\n",
    "\n"
   ]
  },
  {
   "cell_type": "code",
   "execution_count": 53,
   "metadata": {},
   "outputs": [],
   "source": [
    "from elasticsearch_dsl import Index, DocType, Text, analyzer\n",
    "\n",
    "\n",
    "articles = Index(index)\n",
    "\n",
    "# delete the index, ignore if it doesn't exist\n",
    "articles.delete(ignore=404)\n",
    "\n",
    "# # create the index in elasticsearch\n",
    "# blogs.create()\n",
    "\n",
    "# register a doc_type with the index\n",
    "articles.doc_type(Article)\n",
    "\n",
    "\n",
    "# You can attach custom analyzers to the index\n",
    "analyzer = analyzer('customer_analyzer',\n",
    "    tokenizer=\"standard\",\n",
    "    filter=[\"standard\", \"lowercase\", \"stop\", \"snowball\"],\n",
    "    char_filter=[\"html_strip\"]\n",
    ")\n",
    "\n",
    "articles.analyzer(analyzer)"
   ]
  },
  {
   "cell_type": "code",
   "execution_count": 54,
   "metadata": {},
   "outputs": [
    {
     "name": "stdout",
     "output_type": "stream",
     "text": [
      "CPU times: user 29.8 s, sys: 1.33 s, total: 31.1 s\n",
      "Wall time: 3min 32s\n"
     ]
    }
   ],
   "source": [
    "%%time\n",
    "\n",
    "\n",
    "# create and save and article\n",
    "for index, row in q_a_df.iterrows():\n",
    "#     print (row['Q'], row['A'])\n",
    "    article = Article(title=row['SubjectOfBusinessTitle'], tags=['test'])\n",
    "    article.body = row['Q'] + ' | ' + row['A']\n",
    "    article.floorLanguage = row['FloorLanguage']\n",
    "    article.personSpeaking = row['personSpeaking']\n",
    "    article.published_from = row['date']\n",
    "    article.save()\n",
    "#     break\n",
    "    \n"
   ]
  },
  {
   "cell_type": "code",
   "execution_count": 74,
   "metadata": {},
   "outputs": [
    {
     "name": "stdout",
     "output_type": "stream",
     "text": [
      "Total 26387 hits found.\n",
      "/hansard/doc/m0bG32EBTk4QDs3iyorS returned with score 14.441756\n",
      "Foreign Affairs BOS Mr. Speaker, in 2014, the Prime Minister had this to say about the deployment of troops to fight ISIS, “Canadians expect the highest standard of openness and honesty from a leader who wants to send our forces to war. EOS BOS ” He asked the government to allow the House of Commons to debate and vote on the issue, and that is what the previous government did. EOS BOS Will the Prime Minister walk the talk and allow debate and a vote in the House? EOS | BOS Mr. Speaker, our government is committed to actively contributing to greater security and peace in the world, and we welcome a healthy debate both in the House and with Canadians. EOS BOS During my consultations with the defence policy review, we heard from Canadians, and peace operations was at the top there. EOS BOS Members should keep in mind that peace operations are just one small part. EOS BOS We have to look at conflict mediation, conflict prevention, and construction as well. EOS BOS I have to state over and over again that this will be a whole-of-government effort, not just strictly peace operations. EOS\n",
      "/hansard/doc/HkbG32EBTk4QDs3iS3pf returned with score 11.786097\n",
      "Ethics BOS Mr. Speaker, did the Prime Minister inform Nigel Wright of his position on the plausible deniability doctrine before or after Nigel Wright wrote a $90,000 cheque to Mike Duffy? EOS | BOS Mr. Speaker, I can quite clearly say that the Prime Minister demands only the highest ethical standards from all of the people who sit on this side of the House and all of the people who seek to run for the Conservative Party of Canada. EOS BOS That is not something we have ever hidden from. EOS BOS The Prime Minister also did quite clearly say in caucus to Mr. Duffy that he had to repay any of the expenses that he did not incur. EOS BOS That is a standard that we expect, and that is the standard that all Canadians expect. EOS\n",
      "/hansard/doc/r0bF32EBTk4QDs3ivGer returned with score 11.322526\n",
      "National Defence BOS Mr. Speaker, Michael Isikoff, NBC News, is reporting that the United States is lowering standards for air strikes in Iraq and Syria. EOS BOS They are abandoning the “near certainty of no civilian casualty” standard that they have been using in Afghanistan and Pakistan. EOS BOS What are the rules of engagement for Canadian air forces to prevent civilian casualties? Are we going to be held to a higher standard, or are we going to be in lockstep with the Americans? EOS | BOS Mr. Speaker, ISIL has been carrying out a murderous rampage across Iraq, seizing territory and killing children. Be assured that the RCAF will live up to the highest standards in the world. EOS BOS That is the record of Canada. EOS BOS It always has been and it always will be. EOS\n",
      "/hansard/doc/SEbF32EBTk4QDs3iJFT1 returned with score 9.992653\n",
      "Multiculturalism BOS Mr. Speaker, on Friday I was in Bruce—Grey—Owen Sound listening to residents about their hopes, concerns, and priorities. EOS BOS What I heard over and over again was shock and embarrassment about their Conservative MP telling Muslim women to stay the blank where they came from. EOS BOS At the Owen Sound Muslim centre, community leaders told us that they have never felt more afraid. EOS BOS Will the Prime Minister denounce this blatantly racist statement? EOS | BOS Mr. Speaker, the member has recognized that his comments were inappropriate and has apologized. EOS BOS The fact is that immigration has built this great country, and under this government, Canada has enjoyed the highest sustained levels of immigration in Canadian history. EOS BOS The government's position is clear. EOS BOS We believe covering one's face during a citizenship ceremony, at the very time one is being welcomed into the Canadian family, is contrary to the Canadian values of openness and equality. EOS BOS The majority of Canadians, including new Canadians, agree with our position. EOS\n",
      "/hansard/doc/E0bG32EBTk4QDs3ir4cV returned with score 9.042025\n",
      "Government Appointments BOS Mr. Speaker, the Prime Minister announced today that his pick for appointment to the Supreme Court of Canada is the Hon. Sheilah L. Martin. EOS BOS This nomination will fill the vacancy created by the retirement of Chief Justice Beverley McLachlin, after a remarkable legal career. EOS BOS [English]\n",
      "              Justice Martin had been sitting on the courts of appeal of Alberta, the Northwest Territories, and Nunavut. EOS BOS She previously sat on Alberta's Court of Queen's Bench and the Yukon Supreme Court. EOS BOS Would the Prime Minister please inform the House how this selection was made? EOS | BOS Mr. Speaker, I thank the member for Yukon for his question and his excellent French.\n",
      "              I am pleased to announce the nomination of the Hon. EOS BOS Sheilah L. Martin to the Supreme Court. EOS BOS With her wealth of experience and the many distinctions she has earned, she will be a valuable addition to the Supreme Court. EOS BOS [English]\n",
      "              Justice Martin is my second nomination under our new selection process, which promotes greater openness, transparency, and accountability. EOS BOS We are committed to appointing justices of the highest calibre, functionally bilingual, and representative of our diversity. EOS BOS Permit me also to once again thank Chief Justice McLachlin for her extraordinary service to Canada. EOS\n",
      "/hansard/doc/t0bG32EBTk4QDs3iMXZK returned with score 8.924689\n",
      "Ethics BOS Mr. Speaker, I would like to thank my hon. colleague for his very kind and professional words. EOS BOS I agree with him that these are very serious issues. EOS BOS Issues of influence pedaling are serious crimes, and yet the Prime Minister's chief of staff knew about this, the Clerk of the Privy Council knew about this, major Conservative cabinet ministers knew, even Senator Doug Black knew that they were applying the secret sauce. EOS BOS Yet we are supposed to believe that the Prime Minister is always conveniently out of the loop whenever something illegal is happening in his office. EOS BOS When are they going to get to the bottom of this? EOS | BOS Mr. Speaker, again, it was this government that brought in the accountability act. EOS BOS It was this government that brought in strong rules with respect to lobbying, the Ethics Commissioner, and the Commissioner of Lobbying. EOS BOS All of these measures help ensure the highest standard of ethics. EOS BOS At the same time, any individual found in contravention of the very tough laws we have brought in, I agree, should face the full impact of these laws. EOS\n",
      "/hansard/doc/GkbG32EBTk4QDs3ixor_ returned with score 8.747555\n",
      "Ethics BOS Mr. Speaker, let me recap. EOS BOS The Minister of the Environment attended a fundraiser where guests included people who receive funding directly from her department. EOS BOS The Minister of Canadian Heritage did more or less the same thing last week. EOS BOS Yesterday, the Minister of Veterans Affairs had nothing better to do than insult and run roughshod over veterans. EOS BOS How does the Prime Minister determine when a minister should be asked to resign? EOS BOS What is the ethical standard of the day? EOS | BOS Mr. Speaker, the Prime Minister has always demanded the highest ethical standards from his caucus and staffers.[English]That is the example, of course, that this Prime Minister has set since the first day he was elected the leader of our party. EOS BOS Contrast that to the opposition that accepted illegal contributions from their big boss union friends. EOS BOS Members opposite accept donations from individuals who are lobbying them to make changes on policy. EOS BOS When it comes to accountability, we have taken action. EOS BOS We have shown leadership. EOS BOS That is what Canadians expect, and that is what we are delivering. EOS\n",
      "/hansard/doc/QUbI32EBTk4QDs3iWr7w returned with score 8.692630\n",
      "Government Appointments BOS Mr. Speaker, last week I asked if the Prime Minister would recuse himself from the appointment procedure for the new ethics commissioner, who may inherit the investigation into the Prime Minister's conduct, or whether he would just appoint a good Liberal to help get him off the hook. EOS BOS Perhaps signalling what is to come, last week he appointed a former provincial Liberal cabinet minister as official languages commissioner. EOS BOS If he likes to reward Liberals, may I suggest the Minister of National Defence as the new ethics commissioner? EOS BOS I hear he might be available soon. EOS | BOS Mr. Speaker, our two official languages are at the heart of who we are as Canadians, but so is redefining the process by which we select highly qualified Canadians to fulfill important government appointments. EOS BOS We have revised that process to make it more rigorous, more open, more transparent, and more merit-based for all public appointments. EOS BOS We are proud to have appointed Canadians of the highest quality across all levels of government, thus far, through this process. EOS BOS The official languages commissioner has a very important role, and we will ensure that the recommended person meets that high qualification standard. EOS\n",
      "/hansard/doc/AUbH32EBTk4QDs3iOpmI returned with score 8.452625\n",
      "Sealing Industry BOS Mr. Speaker, this morning the World Trade Organization recognized that the European ban on seal products violates international trade rules, but found that it was justifiable on ethical grounds. EOS BOS This is clearly a political decision, as the seal hunt, far from being cruel and unnecessary, is conducted responsibly and sustainably by the people of our communities. EOS BOS In addition to the legal challenge it announced earlier, when will the federal government launch an effective diplomatic offensive to show the European Union the truth about the seal hunt? EOS | BOS Mr. Speaker, we certainly are very concerned about this decision. EOS BOS That is why we are appealing the decision. EOS BOS The WTO has found that the European Union's ban is unfair and discriminatory and violates international trade obligations. EOS BOS That is why we will be appealing. EOS BOS Canadians can rest assured that Canada has the highest standard of any seal hunt in the world. EOS BOS We remain steadfast in our commitment to fight for our sealing businesses, and to help preserve our rural coastal communities. EOS BOS Many of our rural coastal communities have relied on this seal hunt as a way of life for decades. EOS\n",
      "/hansard/doc/Q0bG32EBTk4QDs3iPXhP returned with score 8.259962\n",
      "Justice BOS Mr. Speaker, I thought the question was about the budget. EOS BOS I guess I missed the point. EOS BOS [Translation]Does the Minister of Finance understand finance? EOS BOS I do not see how changes to the legislation for appointing Quebec judges to the Supreme Court, which were announced without consulting Quebec, help promote economic growth in Canada. EOS BOS The changes to the legislation for appointing Quebec judges to the Supreme Court have massive implications. EOS BOS Why does the minister want to pick a new fight with Quebec? EOS BOS Will judicial appointments for Quebec from the Federal Court be a new standard at the Supreme Court of Canada? EOS | BOS Mr. Speaker, as I indicated yesterday, our government believes very strongly that we should defend the rights of long-serving members of the Quebec bar, and in fact of every bar in the country, to serve on the highest court of Canada. EOS BOS What we have done as well is table in the House of Commons a clarification provision that will provide greater clarity. EOS BOS I know members opposite want clarity in Quebec. EOS BOS That is exactly what we have done. EOS BOS We look forward to the Supreme Court itself ruling on the eligibility of Mr. Justice Nadon and then to seeing him join that esteemed group on the Supreme Court of Canada. EOS\n",
      "{'delayed_unassigned_shards': 0, 'timed_out': False, 'status': 'yellow', 'active_shards_percent_as_number': 50.0, 'unassigned_shards': 5, 'number_of_pending_tasks': 0, 'number_of_data_nodes': 1, 'active_primary_shards': 5, 'task_max_waiting_in_queue_millis': 0, 'number_of_nodes': 1, 'initializing_shards': 0, 'active_shards': 5, 'number_of_in_flight_fetch': 0, 'cluster_name': 'elasticsearch', 'relocating_shards': 0}\n"
     ]
    }
   ],
   "source": [
    "from elasticsearch import Elasticsearch\n",
    "from elasticsearch_dsl import Search\n",
    "\n",
    "client = Elasticsearch()\n",
    "\n",
    "def search(term):\n",
    "    fields = ['title', 'body']\n",
    "\n",
    "    s = Search().using(client).query('match',  body=term)\n",
    "    response = s.execute()\n",
    "    print('Total %d hits found.' % response.hits.total)\n",
    "    for hit in response:\n",
    "        print('/%s/%s/%s returned with score %f' % (hit.meta.index, \n",
    "                                                    hit.meta.doc_type, \n",
    "                                                    hit.meta.id, \n",
    "                                                    hit.meta.score))\n",
    "        print(hit.title, hit.body)\n",
    "\n",
    "search('highest standard of openness')\n",
    "\n",
    "# Display cluster health\n",
    "print(connections.get_connection().cluster.health())"
   ]
  },
  {
   "cell_type": "code",
   "execution_count": null,
   "metadata": {
    "collapsed": true
   },
   "outputs": [],
   "source": []
  }
 ],
 "metadata": {
  "kernelspec": {
   "display_name": "Python 3",
   "language": "python",
   "name": "python3"
  },
  "language_info": {
   "codemirror_mode": {
    "name": "ipython",
    "version": 3
   },
   "file_extension": ".py",
   "mimetype": "text/x-python",
   "name": "python",
   "nbconvert_exporter": "python",
   "pygments_lexer": "ipython3",
   "version": "3.5.2"
  }
 },
 "nbformat": 4,
 "nbformat_minor": 2
}
