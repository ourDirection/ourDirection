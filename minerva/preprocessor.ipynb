{
 "cells": [
  {
   "cell_type": "code",
   "execution_count": 33,
   "metadata": {},
   "outputs": [],
   "source": [
    "import spacy\n",
    "import pandas as pd\n",
    "import multiprocessing\n",
    "import numpy as np\n"
   ]
  },
  {
   "cell_type": "code",
   "execution_count": 34,
   "metadata": {},
   "outputs": [
    {
     "name": "stdout",
     "output_type": "stream",
     "text": [
      "number of q & a 5000\n"
     ]
    },
    {
     "data": {
      "text/html": [
       "<div>\n",
       "<style>\n",
       "    .dataframe thead tr:only-child th {\n",
       "        text-align: right;\n",
       "    }\n",
       "\n",
       "    .dataframe thead th {\n",
       "        text-align: left;\n",
       "    }\n",
       "\n",
       "    .dataframe tbody tr th {\n",
       "        vertical-align: top;\n",
       "    }\n",
       "</style>\n",
       "<table border=\"1\" class=\"dataframe\">\n",
       "  <thead>\n",
       "    <tr style=\"text-align: right;\">\n",
       "      <th></th>\n",
       "      <th>Q</th>\n",
       "      <th>A</th>\n",
       "    </tr>\n",
       "  </thead>\n",
       "  <tbody>\n",
       "    <tr>\n",
       "      <th>4995</th>\n",
       "      <td>Mr. Speaker, in all fairness, I have to keep B...</td>\n",
       "      <td>Order, please. I do not think referring to eac...</td>\n",
       "    </tr>\n",
       "    <tr>\n",
       "      <th>4996</th>\n",
       "      <td>Mr. Speaker, yesterday you thought it was okay...</td>\n",
       "      <td>Mr. Speaker, all I ask is for that hon. member...</td>\n",
       "    </tr>\n",
       "    <tr>\n",
       "      <th>4997</th>\n",
       "      <td>Mr. Speaker, in a recent survey conducted by T...</td>\n",
       "      <td>Mr. Speaker, I thank the member for all the gr...</td>\n",
       "    </tr>\n",
       "    <tr>\n",
       "      <th>4998</th>\n",
       "      <td>Mr. Speaker, Conservatives cannot seem to agre...</td>\n",
       "      <td>Mr. Speaker, our engagement with regard to off...</td>\n",
       "    </tr>\n",
       "    <tr>\n",
       "      <th>4999</th>\n",
       "      <td>Mr. Speaker, we had to introduce Bill C-419 to...</td>\n",
       "      <td>Mr. Speaker, as I just mentioned, our policie...</td>\n",
       "    </tr>\n",
       "  </tbody>\n",
       "</table>\n",
       "</div>"
      ],
      "text/plain": [
       "                                                      Q  \\\n",
       "4995  Mr. Speaker, in all fairness, I have to keep B...   \n",
       "4996  Mr. Speaker, yesterday you thought it was okay...   \n",
       "4997  Mr. Speaker, in a recent survey conducted by T...   \n",
       "4998  Mr. Speaker, Conservatives cannot seem to agre...   \n",
       "4999  Mr. Speaker, we had to introduce Bill C-419 to...   \n",
       "\n",
       "                                                      A  \n",
       "4995  Order, please. I do not think referring to eac...  \n",
       "4996  Mr. Speaker, all I ask is for that hon. member...  \n",
       "4997  Mr. Speaker, I thank the member for all the gr...  \n",
       "4998  Mr. Speaker, our engagement with regard to off...  \n",
       "4999   Mr. Speaker, as I just mentioned, our policie...  "
      ]
     },
     "execution_count": 34,
     "metadata": {},
     "output_type": "execute_result"
    }
   ],
   "source": [
    "df_hansard  = pd.read_csv('data/hansard_all.csv')\n",
    "\n",
    "df_group = df_hansard.groupby('subjectOfBusinessId')\n",
    "\n",
    "q_a = []\n",
    "for i, index in df_group.groups.items():\n",
    "    # don't bother with odd pairs\n",
    "    if (len(index) % 2 != 0): \n",
    "        continue\n",
    "\n",
    "    # Create conversatoin pairs\n",
    "    t = df_hansard.iloc[list(index)]['content'].values\n",
    "    q_a.append(list(zip(t[::2], t[1::2])))\n",
    "\n",
    "q_a = [item for sublist in q_a for item in sublist]\n",
    "\n",
    "q_a = q_a[:5000]\n",
    "\n",
    "print('number of q & a', len(q_a))\n",
    "    \n",
    "df_q_a = pd.DataFrame(q_a)\n",
    "df_q_a.columns = ['Q', 'A']\n",
    "df_q_a.to_csv('data/q_a_all.csv')\n",
    "df_q_a.tail()"
   ]
  },
  {
   "cell_type": "code",
   "execution_count": 35,
   "metadata": {
    "collapsed": true
   },
   "outputs": [],
   "source": [
    "# Load English tokenizer, tagger, parser, NER and word vectors\n",
    "nlp = spacy.load('en')\n",
    "\n",
    "def sentence_tokenizer(raw_text):\n",
    "    # Create doc = nlp(raw_text) and parse sentences. \n",
    "    return u' '.join(['BOS ' + sent.string.strip() + ' EOS' for sent in nlp(raw_text).sents])"
   ]
  },
  {
   "cell_type": "code",
   "execution_count": 36,
   "metadata": {},
   "outputs": [
    {
     "name": "stdout",
     "output_type": "stream",
     "text": [
      "8\n",
      "CPU times: user 824 ms, sys: 268 ms, total: 1.09 s\n",
      "Wall time: 5min 59s\n"
     ]
    }
   ],
   "source": [
    "%%time\n",
    "\n",
    "def _apply_df(args):\n",
    "    df, func, kwargs = args\n",
    "    df['Q'] = df['Q'].apply(func, **kwargs)\n",
    "    df['A'] = df['A'].apply(func, **kwargs)\n",
    "    return df#df.apply(func, **kwargs)\n",
    "\n",
    "def apply_by_multiprocessing(df, func, **kwargs):\n",
    "    workers = kwargs.pop('workers')\n",
    "    pool = multiprocessing.Pool(processes=workers)\n",
    "    result = pool.map(_apply_df, [(d, func, kwargs) for d in np.array_split(df, workers)])\n",
    "    pool.close()\n",
    "    return pd.concat(list(result))\n",
    "    \n",
    "num_cores = multiprocessing.cpu_count()\n",
    "print(num_cores) \n",
    "    \n",
    "df_q_a = pd.read_csv('data/q_a_all.csv')\n",
    "\n",
    "df_q_a = apply_by_multiprocessing(df_q_a, sentence_tokenizer,  workers=num_cores)\n",
    "   \n",
    "df_q_a.to_csv('data/q_a_all.csv')\n",
    "df_q_a.tail()\n"
   ]
  },
  {
   "cell_type": "code",
   "execution_count": 38,
   "metadata": {},
   "outputs": [
    {
     "name": "stdout",
     "output_type": "stream",
     "text": [
      "BOS Mr. Speaker, France and Italy have recognized the Libyan National Council as that country's legitimate government. EOS BOS Can the Minister of Foreign Affairs clarify Canada's position on this? EOS\n"
     ]
    },
    {
     "data": {
      "text/html": [
       "<div>\n",
       "<style>\n",
       "    .dataframe thead tr:only-child th {\n",
       "        text-align: right;\n",
       "    }\n",
       "\n",
       "    .dataframe thead th {\n",
       "        text-align: left;\n",
       "    }\n",
       "\n",
       "    .dataframe tbody tr th {\n",
       "        vertical-align: top;\n",
       "    }\n",
       "</style>\n",
       "<table border=\"1\" class=\"dataframe\">\n",
       "  <thead>\n",
       "    <tr style=\"text-align: right;\">\n",
       "      <th></th>\n",
       "      <th>Q</th>\n",
       "      <th>A</th>\n",
       "    </tr>\n",
       "  </thead>\n",
       "  <tbody>\n",
       "    <tr>\n",
       "      <th>4995</th>\n",
       "      <td>BOS Mr. Speaker, in all fairness, I have to ke...</td>\n",
       "      <td>BOS Order, please. EOS BOS I do not think refe...</td>\n",
       "    </tr>\n",
       "    <tr>\n",
       "      <th>4996</th>\n",
       "      <td>BOS Mr. Speaker, yesterday you thought it was ...</td>\n",
       "      <td>BOS Mr. Speaker, all I ask is for that hon. EO...</td>\n",
       "    </tr>\n",
       "    <tr>\n",
       "      <th>4997</th>\n",
       "      <td>BOS Mr. Speaker, in a recent survey conducted ...</td>\n",
       "      <td>BOS Mr. Speaker, I thank the member for all th...</td>\n",
       "    </tr>\n",
       "    <tr>\n",
       "      <th>4998</th>\n",
       "      <td>BOS Mr. Speaker, Conservatives cannot seem to ...</td>\n",
       "      <td>BOS Mr. Speaker, our engagement with regard to...</td>\n",
       "    </tr>\n",
       "    <tr>\n",
       "      <th>4999</th>\n",
       "      <td>BOS Mr. Speaker, we had to introduce Bill C-41...</td>\n",
       "      <td>BOS Mr. Speaker, as I just mentioned, our poli...</td>\n",
       "    </tr>\n",
       "  </tbody>\n",
       "</table>\n",
       "</div>"
      ],
      "text/plain": [
       "                                                      Q  \\\n",
       "4995  BOS Mr. Speaker, in all fairness, I have to ke...   \n",
       "4996  BOS Mr. Speaker, yesterday you thought it was ...   \n",
       "4997  BOS Mr. Speaker, in a recent survey conducted ...   \n",
       "4998  BOS Mr. Speaker, Conservatives cannot seem to ...   \n",
       "4999  BOS Mr. Speaker, we had to introduce Bill C-41...   \n",
       "\n",
       "                                                      A  \n",
       "4995  BOS Order, please. EOS BOS I do not think refe...  \n",
       "4996  BOS Mr. Speaker, all I ask is for that hon. EO...  \n",
       "4997  BOS Mr. Speaker, I thank the member for all th...  \n",
       "4998  BOS Mr. Speaker, our engagement with regard to...  \n",
       "4999  BOS Mr. Speaker, as I just mentioned, our poli...  "
      ]
     },
     "execution_count": 38,
     "metadata": {},
     "output_type": "execute_result"
    }
   ],
   "source": [
    "\n",
    "df_q_a = pd.read_csv('data/q_a_all.csv')\n",
    "# df_q_a.drop(['Unnamed: 0', 'Unnamed: 0.1'], axis=1, inplace=True)\n",
    "# df_q_a.to_csv('data/q_a_all.csv')\n",
    "# text= ' Mr. Speaker, when the Prime Minister interrupted a woman at a town hall, correcting her use of “mankind” with “peoplekind“, his mansplaining went viral. Around the world, the Prime Minister was mocked for his political correctness. The Prime Minister eventually conceded that it was a dumb joke, but his principal secretary, Gerald Butts, tweeted that any and all who criticized his boss were Nazis. The Prime Minister once said that any statement by Mr. Butts could be considered his own, and in this case?'\n",
    "print(df_q_a['Q'][10])\n",
    "# print(sentence_t.okenizer(df_q_a['Q'][10]))\n",
    "\n",
    "# df_q_a['Q'] = df_q_a['Q'].apply(sentence_tokenizer)\n",
    "# df_q_a['A'] = df_q_a['A'].apply(sentence_tokenizer)\n",
    "# df_q_a.to_csv('data/q_a.csv')\n",
    "df_q_a.tail()\n",
    "\n"
   ]
  },
  {
   "cell_type": "code",
   "execution_count": 32,
   "metadata": {},
   "outputs": [
    {
     "name": "stdout",
     "output_type": "stream",
     "text": [
      "27372\n"
     ]
    }
   ],
   "source": [
    "df_q_a['Q_A'] = df_q_a[['Q', 'A']].apply(lambda x: u' '.join(x), axis=1)\n",
    "\n",
    "\n",
    "print(len(df_q_a['Q_A']))\n",
    "with open('data/Q_A_pairs.txt', 'w') as file:\n",
    "    for row in df_q_a['Q_A']:\n",
    "        file.write(row.strip() + '\\n')\n"
   ]
  },
  {
   "cell_type": "code",
   "execution_count": null,
   "metadata": {
    "collapsed": true
   },
   "outputs": [],
   "source": []
  }
 ],
 "metadata": {
  "kernelspec": {
   "display_name": "Python 3",
   "language": "python",
   "name": "python3"
  },
  "language_info": {
   "codemirror_mode": {
    "name": "ipython",
    "version": 3
   },
   "file_extension": ".py",
   "mimetype": "text/x-python",
   "name": "python",
   "nbconvert_exporter": "python",
   "pygments_lexer": "ipython3",
   "version": "3.6.2"
  }
 },
 "nbformat": 4,
 "nbformat_minor": 2
}
