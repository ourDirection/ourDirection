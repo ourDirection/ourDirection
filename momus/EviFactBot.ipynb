{
 "cells": [
  {
   "cell_type": "code",
   "execution_count": 31,
   "metadata": {},
   "outputs": [],
   "source": [
    "import requests\n",
    "from bs4 import BeautifulSoup\n",
    "import urllib\n",
    "import spacy\n",
    "nlp = spacy.load('en')"
   ]
  },
  {
   "cell_type": "code",
   "execution_count": 32,
   "metadata": {
    "collapsed": true
   },
   "outputs": [],
   "source": [
    "evi_base_url = 'https://www.evi.com/q/{query}'"
   ]
  },
  {
   "cell_type": "code",
   "execution_count": 49,
   "metadata": {},
   "outputs": [],
   "source": [
    "\n",
    "def call_evi(query):\n",
    "    query = urllib.parse.quote(query)\n",
    "    link = evi_base_url.replace('{query}', query)\n",
    "#     print(link)\n",
    "    f = requests.get(link)\n",
    "    return BeautifulSoup(f.text, 'html.parser').find('div', class_='tk_common').get_text().strip()\n",
    "\n",
    "def search_evi(query):\n",
    "    result = ''\n",
    "    try:\n",
    "        result = call_evi(query)\n",
    "    except AttributeError:\n",
    "        doc = nlp(query)\n",
    "        query = ''\n",
    "        \n",
    "        for ent in doc.ents:\n",
    "            query  += query + ent.text + ' '\n",
    "    \n",
    "        try:\n",
    "            print('retrying with NER: ', query)\n",
    "            result = call_evi(query)\n",
    "        except AttributeError:\n",
    "             result = 'no answer was found for your query %s' % query\n",
    "    \n",
    "    return result\n",
    "    \n"
   ]
  },
  {
   "cell_type": "code",
   "execution_count": 56,
   "metadata": {},
   "outputs": [
    {
     "name": "stdout",
     "output_type": "stream",
     "text": [
      "Ireland's capital city is Dublin.\n"
     ]
    }
   ],
   "source": [
    "print(search_evi('what is the capital of ireland?'))"
   ]
  },
  {
   "cell_type": "code",
   "execution_count": 60,
   "metadata": {},
   "outputs": [
    {
     "name": "stdout",
     "output_type": "stream",
     "text": [
      "Thomas Jefferson Thomas Jefferson American Thomas Jefferson Thomas Jefferson American the Declaration of Independence Thomas Jefferson Thomas Jefferson American Thomas Jefferson Thomas Jefferson American the Declaration of Independence third Thomas Jefferson Thomas Jefferson American Thomas Jefferson Thomas Jefferson American the Declaration of Independence Thomas Jefferson Thomas Jefferson American Thomas Jefferson Thomas Jefferson American the Declaration of Independence third the United States Thomas Jefferson Thomas Jefferson American Thomas Jefferson Thomas Jefferson American the Declaration of Independence Thomas Jefferson Thomas Jefferson American Thomas Jefferson Thomas Jefferson American the Declaration of Independence third Thomas Jefferson Thomas Jefferson American Thomas Jefferson Thomas Jefferson American the Declaration of Independence Thomas Jefferson Thomas Jefferson American Thomas Jefferson Thomas Jefferson American the Declaration of Independence third the United States 1801 to 1809 \n"
     ]
    }
   ],
   "source": [
    "doc = nlp('Thomas Jefferson was an American Founding Father who was the principal author of the Declaration of Independence and later served as the third President of the United States from 1801 to 1809.')\n",
    "query = ''\n",
    "for ent in doc.ents:\n",
    "    query  += query + ent.text + ' '\n",
    "print(query)"
   ]
  },
  {
   "cell_type": "code",
   "execution_count": null,
   "metadata": {
    "collapsed": true
   },
   "outputs": [],
   "source": []
  },
  {
   "cell_type": "code",
   "execution_count": null,
   "metadata": {
    "collapsed": true
   },
   "outputs": [],
   "source": []
  }
 ],
 "metadata": {
  "kernelspec": {
   "display_name": "Python 3",
   "language": "python",
   "name": "python3"
  },
  "language_info": {
   "codemirror_mode": {
    "name": "ipython",
    "version": 3
   },
   "file_extension": ".py",
   "mimetype": "text/x-python",
   "name": "python",
   "nbconvert_exporter": "python",
   "pygments_lexer": "ipython3",
   "version": "3.6.3"
  }
 },
 "nbformat": 4,
 "nbformat_minor": 2
}
